{
 "cells": [
  {
   "cell_type": "markdown",
   "metadata": {},
   "source": [
    "# Global SDG Data Series Catalogue\n",
    "This notebook illustrates a series of steps necessary to create a catalog of the data series included in the Global SDG Indicator Framework"
   ]
  },
  {
   "cell_type": "markdown",
   "metadata": {},
   "source": [
    "## Initial settings"
   ]
  },
  {
   "cell_type": "code",
   "execution_count": 3,
   "metadata": {},
   "outputs": [
    {
     "name": "stdout",
     "output_type": "stream",
     "text": [
      "/home/jovyan/PCBS/notebooks\n",
      "global indicator framework dir: ../Global Indicator Framework/\n",
      "sdg matix outputs dir: ../SDG-Matrix/Output/\n",
      "Initialization completed\n"
     ]
    }
   ],
   "source": [
    "import pandas as pd\n",
    "import os \n",
    "\n",
    "dir_path = os.path.dirname(os.path.realpath('__file__'))\n",
    "print(dir_path)\n",
    "\n",
    "global_indicator_dir = r'../Global Indicator Framework/'\n",
    "\n",
    "\n",
    "print('global indicator framework dir: ' + global_indicator_dir)\n",
    "\n",
    "\n",
    "output_dir = r'../SDG-Matrix/Output/'\n",
    "print('sdg matix outputs dir: ' + output_dir)\n",
    "print('Initialization completed')\n",
    "\n"
   ]
  },
  {
   "cell_type": "markdown",
   "metadata": {},
   "source": [
    "## Global indicator framework"
   ]
  },
  {
   "cell_type": "code",
   "execution_count": null,
   "metadata": {},
   "outputs": [],
   "source": [
    "indicator_list = pd.read_excel(global_indicator_dir + 'IndicatorList_20190323.xlsx')\n",
    "indicator_list.head(10)"
   ]
  },
  {
   "cell_type": "markdown",
   "metadata": {},
   "source": [
    "## Tier classification"
   ]
  },
  {
   "cell_type": "code",
   "execution_count": null,
   "metadata": {},
   "outputs": [],
   "source": [
    "tier_classification = pd.read_excel(global_indicator_dir + 'TierCllassification_20190213.xlsx')\n",
    "tier_classification.head(10)"
   ]
  },
  {
   "cell_type": "markdown",
   "metadata": {},
   "source": [
    "## Global data series"
   ]
  },
  {
   "cell_type": "code",
   "execution_count": null,
   "metadata": {},
   "outputs": [],
   "source": [
    "series = pd.read_json('https://unstats.un.org/SDGAPI/v1/sdg/Series/List?allreleases=false')\n",
    "series.head(10)"
   ]
  },
  {
   "cell_type": "code",
   "execution_count": null,
   "metadata": {},
   "outputs": [],
   "source": [
    "global_series = []\n",
    "\n",
    "for index, row in series.iterrows():\n",
    "    \n",
    "    series_id = row['code']\n",
    "    series_desc = row['description']\n",
    "    \n",
    "    for i in range(len(row['indicator'])):\n",
    "    \n",
    "        series_dict = {}\n",
    "        \n",
    "        goal_id =  row['goal'][i]\n",
    "        target_id = row['target'][i]\n",
    "        indicator_id = row['indicator'][i]\n",
    "        release = row['release']\n",
    "        \n",
    "        series_dict['Goal'] = goal_id\n",
    "        series_dict['Target'] = target_id\n",
    "        series_dict['Indicator'] = indicator_id\n",
    "        series_dict['Series'] = series_id\n",
    "        series_dict['SeriesDesc'] = series_desc\n",
    "        \n",
    "        series_attr = pd.read_json('https://unstats.un.org/SDGAPI/v1/sdg/Series/'+series_id+'/Attributes')\n",
    "        series_dict['Units'] = series_attr.loc[series_attr['id'] == 'Units'].iloc[0]['codes'][0]['sdmx']\n",
    "\n",
    "        \n",
    "        global_series.append(series_dict)\n",
    "\n",
    "global_series = pd.DataFrame(global_series)\n",
    "global_series.head(6)"
   ]
  },
  {
   "cell_type": "markdown",
   "metadata": {},
   "source": [
    "## Global series catalogue"
   ]
  },
  {
   "cell_type": "code",
   "execution_count": null,
   "metadata": {},
   "outputs": [],
   "source": [
    "global_series_catalogue = pd.merge(pd.merge(indicator_list,tier_classification, how='left', on=['IndicatorCode']),\n",
    "                                   global_series[['Indicator', 'Series', 'SeriesDesc', 'Units']], how = 'left', on = ['Indicator'])\n",
    "global_series_catalogue.head(5) "
   ]
  },
  {
   "cell_type": "code",
   "execution_count": null,
   "metadata": {},
   "outputs": [],
   "source": [
    "global_series_catalogue.shape"
   ]
  },
  {
   "cell_type": "markdown",
   "metadata": {},
   "source": [
    "Add a marker indicating that this is from the global sdg indicators database:"
   ]
  },
  {
   "cell_type": "code",
   "execution_count": null,
   "metadata": {},
   "outputs": [],
   "source": [
    "global_series_catalogue['side'] = 'Global'"
   ]
  },
  {
   "cell_type": "code",
   "execution_count": null,
   "metadata": {},
   "outputs": [],
   "source": [
    "global_series_catalogue.to_excel(global_indicator_dir + 'global_series_catalogue.xlsx',index=False, encoding='UTF-8')"
   ]
  }
 ],
 "metadata": {
  "kernelspec": {
   "display_name": "Python 3",
   "language": "python",
   "name": "python3"
  },
  "language_info": {
   "codemirror_mode": {
    "name": "ipython",
    "version": 3
   },
   "file_extension": ".py",
   "mimetype": "text/x-python",
   "name": "python",
   "nbconvert_exporter": "python",
   "pygments_lexer": "ipython3",
   "version": "3.7.1"
  }
 },
 "nbformat": 4,
 "nbformat_minor": 2
}
